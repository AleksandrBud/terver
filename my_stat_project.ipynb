{
 "cells": [
  {
   "cell_type": "markdown",
   "metadata": {},
   "source": [
    "Тема проекта: Изучение статистических показателей показателей ремонтируемых двигателей\n",
    "Задачи:\n",
    "    1. Вычислить математическое ожидание, дисперсию, среднее квадратичное отклонение стоимости ремонта двигателя;\n",
    "    2. Проверить гипотезу, что медиана является средним значением выборки;\n",
    "    3. Расчитать коэффициенты корреляции для стоимости ремонта, количества ремонтируемых деталей, количества ремонтируемых узлов, наработки и модели."
   ]
  },
  {
   "cell_type": "code",
   "execution_count": 1,
   "metadata": {},
   "outputs": [],
   "source": [
    "import pandas as pd\n",
    "import numpy as np\n",
    "import datetime\n",
    "import math\n",
    "from matplotlib import pyplot as plt\n",
    "from scipy import stats"
   ]
  },
  {
   "cell_type": "code",
   "execution_count": 2,
   "metadata": {},
   "outputs": [
    {
     "data": {
      "text/html": [
       "<div>\n",
       "<style scoped>\n",
       "    .dataframe tbody tr th:only-of-type {\n",
       "        vertical-align: middle;\n",
       "    }\n",
       "\n",
       "    .dataframe tbody tr th {\n",
       "        vertical-align: top;\n",
       "    }\n",
       "\n",
       "    .dataframe thead th {\n",
       "        text-align: right;\n",
       "    }\n",
       "</style>\n",
       "<table border=\"1\" class=\"dataframe\">\n",
       "  <thead>\n",
       "    <tr style=\"text-align: right;\">\n",
       "      <th></th>\n",
       "      <th>series</th>\n",
       "      <th>count_blok</th>\n",
       "      <th>count_detail</th>\n",
       "      <th>work_time</th>\n",
       "      <th>amount</th>\n",
       "      <th>days_repair</th>\n",
       "    </tr>\n",
       "  </thead>\n",
       "  <tbody>\n",
       "    <tr>\n",
       "      <th>51</th>\n",
       "      <td>D</td>\n",
       "      <td>20</td>\n",
       "      <td>8386</td>\n",
       "      <td>100.0</td>\n",
       "      <td>5742.0</td>\n",
       "      <td>260.0</td>\n",
       "    </tr>\n",
       "    <tr>\n",
       "      <th>63</th>\n",
       "      <td>D</td>\n",
       "      <td>265</td>\n",
       "      <td>1878</td>\n",
       "      <td>102.0</td>\n",
       "      <td>3744971.0</td>\n",
       "      <td>151.0</td>\n",
       "    </tr>\n",
       "    <tr>\n",
       "      <th>139</th>\n",
       "      <td>N</td>\n",
       "      <td>630</td>\n",
       "      <td>7526</td>\n",
       "      <td>103.0</td>\n",
       "      <td>4555.0</td>\n",
       "      <td>77.0</td>\n",
       "    </tr>\n",
       "    <tr>\n",
       "      <th>45</th>\n",
       "      <td>D</td>\n",
       "      <td>187</td>\n",
       "      <td>2059</td>\n",
       "      <td>104.0</td>\n",
       "      <td>2382642.0</td>\n",
       "      <td>45.0</td>\n",
       "    </tr>\n",
       "    <tr>\n",
       "      <th>302</th>\n",
       "      <td>M</td>\n",
       "      <td>302</td>\n",
       "      <td>3074</td>\n",
       "      <td>105.0</td>\n",
       "      <td>2573920.0</td>\n",
       "      <td>104.8</td>\n",
       "    </tr>\n",
       "  </tbody>\n",
       "</table>\n",
       "</div>"
      ],
      "text/plain": [
       "    series  count_blok  count_detail  work_time     amount  days_repair\n",
       "51       D          20          8386      100.0     5742.0        260.0\n",
       "63       D         265          1878      102.0  3744971.0        151.0\n",
       "139      N         630          7526      103.0     4555.0         77.0\n",
       "45       D         187          2059      104.0  2382642.0         45.0\n",
       "302      M         302          3074      105.0  2573920.0        104.8"
      ]
     },
     "execution_count": 2,
     "metadata": {},
     "output_type": "execute_result"
    }
   ],
   "source": [
    "df = pd.read_csv('df_item.csv')\n",
    "df['count_blok'] = df['count_blok'].astype('int')\n",
    "df['count_detail'] = df['count_detail'].astype('int')\n",
    "df['work_time'] = df['work_time'].astype('int')\n",
    "df['amount'] = df['amount'].astype('float')\n",
    "df['days_repair'] = df['days_repair'].astype('int')"
   ]
  },
  {
   "cell_type": "markdown",
   "metadata": {},
   "source": [
    "Для проведения статистического анализа были взяты данные по ремонту двигателей за предыдущие года.\n",
    "По каждому двигателю фиксировались следующие показатели:\n",
    "    - series - серия двигателя;\n",
    "    - count_blok - солличество отремонтированных узлов;\n",
    "    - count_detail - колличество отремонтированных деталей;\n",
    "    - work_time - сколько часов проработал двигатель;\n",
    "    - amount - стоимость ремонта;\n",
    "    - days_repair - сколько дней двигатель находился в ремонте."
   ]
  },
  {
   "cell_type": "code",
   "execution_count": 3,
   "metadata": {},
   "outputs": [
    {
     "data": {
      "text/html": [
       "<div>\n",
       "<style scoped>\n",
       "    .dataframe tbody tr th:only-of-type {\n",
       "        vertical-align: middle;\n",
       "    }\n",
       "\n",
       "    .dataframe tbody tr th {\n",
       "        vertical-align: top;\n",
       "    }\n",
       "\n",
       "    .dataframe thead th {\n",
       "        text-align: right;\n",
       "    }\n",
       "</style>\n",
       "<table border=\"1\" class=\"dataframe\">\n",
       "  <thead>\n",
       "    <tr style=\"text-align: right;\">\n",
       "      <th></th>\n",
       "      <th>count_blok</th>\n",
       "      <th>count_detail</th>\n",
       "      <th>work_time</th>\n",
       "      <th>amount</th>\n",
       "      <th>days_repair</th>\n",
       "    </tr>\n",
       "  </thead>\n",
       "  <tbody>\n",
       "    <tr>\n",
       "      <th>count</th>\n",
       "      <td>1306.000000</td>\n",
       "      <td>1306.000000</td>\n",
       "      <td>1306.000000</td>\n",
       "      <td>1.306000e+03</td>\n",
       "      <td>1306.000000</td>\n",
       "    </tr>\n",
       "    <tr>\n",
       "      <th>mean</th>\n",
       "      <td>251.231240</td>\n",
       "      <td>2456.013783</td>\n",
       "      <td>1176.231240</td>\n",
       "      <td>2.104191e+06</td>\n",
       "      <td>222.464472</td>\n",
       "    </tr>\n",
       "    <tr>\n",
       "      <th>std</th>\n",
       "      <td>155.367916</td>\n",
       "      <td>1546.104023</td>\n",
       "      <td>884.351463</td>\n",
       "      <td>1.575083e+06</td>\n",
       "      <td>104.319784</td>\n",
       "    </tr>\n",
       "    <tr>\n",
       "      <th>min</th>\n",
       "      <td>3.000000</td>\n",
       "      <td>11.000000</td>\n",
       "      <td>100.000000</td>\n",
       "      <td>9.700000e+01</td>\n",
       "      <td>3.000000</td>\n",
       "    </tr>\n",
       "    <tr>\n",
       "      <th>25%</th>\n",
       "      <td>139.000000</td>\n",
       "      <td>1482.750000</td>\n",
       "      <td>687.500000</td>\n",
       "      <td>1.250757e+06</td>\n",
       "      <td>176.000000</td>\n",
       "    </tr>\n",
       "    <tr>\n",
       "      <th>50%</th>\n",
       "      <td>239.500000</td>\n",
       "      <td>2390.500000</td>\n",
       "      <td>1066.000000</td>\n",
       "      <td>1.980886e+06</td>\n",
       "      <td>221.000000</td>\n",
       "    </tr>\n",
       "    <tr>\n",
       "      <th>75%</th>\n",
       "      <td>335.000000</td>\n",
       "      <td>3164.000000</td>\n",
       "      <td>1437.000000</td>\n",
       "      <td>2.654119e+06</td>\n",
       "      <td>256.000000</td>\n",
       "    </tr>\n",
       "    <tr>\n",
       "      <th>max</th>\n",
       "      <td>878.000000</td>\n",
       "      <td>9269.000000</td>\n",
       "      <td>9971.000000</td>\n",
       "      <td>1.344385e+07</td>\n",
       "      <td>969.000000</td>\n",
       "    </tr>\n",
       "  </tbody>\n",
       "</table>\n",
       "</div>"
      ],
      "text/plain": [
       "        count_blok  count_detail    work_time        amount  days_repair\n",
       "count  1306.000000   1306.000000  1306.000000  1.306000e+03  1306.000000\n",
       "mean    251.231240   2456.013783  1176.231240  2.104191e+06   222.464472\n",
       "std     155.367916   1546.104023   884.351463  1.575083e+06   104.319784\n",
       "min       3.000000     11.000000   100.000000  9.700000e+01     3.000000\n",
       "25%     139.000000   1482.750000   687.500000  1.250757e+06   176.000000\n",
       "50%     239.500000   2390.500000  1066.000000  1.980886e+06   221.000000\n",
       "75%     335.000000   3164.000000  1437.000000  2.654119e+06   256.000000\n",
       "max     878.000000   9269.000000  9971.000000  1.344385e+07   969.000000"
      ]
     },
     "execution_count": 3,
     "metadata": {},
     "output_type": "execute_result"
    }
   ],
   "source": [
    "df.describe()"
   ]
  },
  {
   "cell_type": "markdown",
   "metadata": {},
   "source": [
    "Построим гистограммы распределения плотности показателей наших данных"
   ]
  },
  {
   "cell_type": "code",
   "execution_count": 14,
   "metadata": {},
   "outputs": [
    {
     "data": {
      "text/plain": [
       "<matplotlib.axes._subplots.AxesSubplot at 0xbcd4668>"
      ]
     },
     "execution_count": 14,
     "metadata": {},
     "output_type": "execute_result"
    },
    {
     "data": {
      "image/png": "[encoded data removed]",
      "text/plain": [
       "<Figure size 432x288 with 1 Axes>"
      ]
     },
     "metadata": {
      "needs_background": "light"
     },
     "output_type": "display_data"
    }
   ],
   "source": [
    "df['amount'].hist(density=True, bins = 100)"
   ]
  },
  {
   "cell_type": "markdown",
   "metadata": {},
   "source": [
    "Из графика плотности распределения стоимости видно, что ряд значений встречаются крайне редко.\n",
    "\n",
    "Чтобы получить удовлетворительный результат статистического анализа, предлагается отбросить данные которые встречаются крайне редко.\n",
    "\n",
    "Для этого проанализируем более подробно показатель стоимости.\n",
    "\n",
    "График плотности распределения показателя amount имеет вид нормального распределения.\n",
    "\n",
    "Для вычисления разброса значений нормально распределённой случайной величины можно использовать правила 3 сигм т.к. в этом случает в анализируемую выборку попадут 99,7% массы значений нормального распределения."
   ]
  },
  {
   "cell_type": "code",
   "execution_count": 5,
   "metadata": {},
   "outputs": [
    {
     "data": {
      "text/plain": [
       "0     97.0\n",
       "1    138.0\n",
       "dtype: float64"
      ]
     },
     "execution_count": 5,
     "metadata": {},
     "output_type": "execute_result"
    }
   ],
   "source": [
    "#Наиболее часто встречающееся значение\n",
    "df['amount'].mode()"
   ]
  },
  {
   "cell_type": "code",
   "execution_count": 6,
   "metadata": {},
   "outputs": [
    {
     "data": {
      "text/plain": [
       "1980886.2957588634"
      ]
     },
     "execution_count": 6,
     "metadata": {},
     "output_type": "execute_result"
    }
   ],
   "source": [
    "#Медиана\n",
    "df['amount'].median()"
   ]
  },
  {
   "cell_type": "markdown",
   "metadata": {},
   "source": [
    "Проверим гипотезу, что медиана является средним значением нашей выборки с доверительной вероятностью 0.999"
   ]
  },
  {
   "cell_type": "code",
   "execution_count": 7,
   "metadata": {},
   "outputs": [
    {
     "name": "stdout",
     "output_type": "stream",
     "text": [
      "2104190.85 1575083.19\n"
     ]
    }
   ],
   "source": [
    "#Считаем средние значения стоимости и среднее квадратичное отклонение\n",
    "mean_amount = df['amount'].mean()\n",
    "std_amount = df['amount'].std(ddof=1)\n",
    "print(round(mean_amount, 2), round(std_amount, 2 ))"
   ]
  },
  {
   "cell_type": "code",
   "execution_count": 8,
   "metadata": {},
   "outputs": [
    {
     "data": {
      "text/plain": [
       "3.2979978328116863"
      ]
     },
     "execution_count": 8,
     "metadata": {},
     "output_type": "execute_result"
    }
   ],
   "source": [
    "#Считаем значение статистики\n",
    "alpha = 0.001\n",
    "n = df.shape[0]\n",
    "t = stats.t.ppf(1 - alpha / 2, df=df.shape[0] - 1)\n",
    "t"
   ]
  },
  {
   "cell_type": "code",
   "execution_count": 9,
   "metadata": {},
   "outputs": [
    {
     "data": {
      "text/plain": [
       "(1960449.3158673372, 2247932.383704166)"
      ]
     },
     "execution_count": 9,
     "metadata": {},
     "output_type": "execute_result"
    }
   ],
   "source": [
    "#Доверительный интервал\n",
    "(mean_amount - t * std_amount / np.sqrt(n), mean_amount + t * std_amount / np.sqrt(n))"
   ]
  },
  {
   "cell_type": "markdown",
   "metadata": {},
   "source": [
    "Наша гипотеза подтвердилась т.к. значение медианы попало в доверительный интервал следовательно мы можем взять его за основу для расчета квантилей и убрать из выборки наблюдения которые выпадают из диапазона нормальног распределения выборки."
   ]
  },
  {
   "cell_type": "code",
   "execution_count": 10,
   "metadata": {},
   "outputs": [],
   "source": [
    "#Смещенная дисперсия\n",
    "def disp_move(proc_array, sr_znach):\n",
    "    sum_i = 0\n",
    "    for i in range(0, np.size(proc_array)):\n",
    "        sum_i = sum_i + (proc_array[i] - sr_znach)**2 \n",
    "    return sum_i/np.size(proc_array)"
   ]
  },
  {
   "cell_type": "code",
   "execution_count": 11,
   "metadata": {},
   "outputs": [
    {
     "name": "stdout",
     "output_type": "stream",
     "text": [
      "1579300.9445277993\n"
     ]
    }
   ],
   "source": [
    "#Среднее квадр. откл.\n",
    "mean_amount = df['amount'].median()\n",
    "std_amount = np.sqrt(disp_move(df['amount'], mean_amount)) \n",
    "print(std_amount)"
   ]
  },
  {
   "cell_type": "code",
   "execution_count": 12,
   "metadata": {},
   "outputs": [],
   "source": [
    "three_sigmas_condition = df[(df['amount'] > mean_amount - 3 * std_amount) & (df['amount'] < mean_amount + 3 * std_amount)]"
   ]
  },
  {
   "cell_type": "code",
   "execution_count": 16,
   "metadata": {},
   "outputs": [
    {
     "data": {
      "text/plain": [
       "<matplotlib.axes._subplots.AxesSubplot at 0xc34c128>"
      ]
     },
     "execution_count": 16,
     "metadata": {},
     "output_type": "execute_result"
    },
    {
     "data": {
      "image/png": "[encoded data removed]",
      "text/plain": [
       "<Figure size 432x288 with 1 Axes>"
      ]
     },
     "metadata": {
      "needs_background": "light"
     },
     "output_type": "display_data"
    }
   ],
   "source": [
    "three_sigmas_condition['amount'] .hist(density=True, bins = 100)"
   ]
  },
  {
   "cell_type": "markdown",
   "metadata": {},
   "source": [
    "Рассчитаем коэффичиенты корреляции для нашей выборки"
   ]
  },
  {
   "cell_type": "code",
   "execution_count": 18,
   "metadata": {},
   "outputs": [
    {
     "data": {
      "text/html": [
       "<div>\n",
       "<style scoped>\n",
       "    .dataframe tbody tr th:only-of-type {\n",
       "        vertical-align: middle;\n",
       "    }\n",
       "\n",
       "    .dataframe tbody tr th {\n",
       "        vertical-align: top;\n",
       "    }\n",
       "\n",
       "    .dataframe thead th {\n",
       "        text-align: right;\n",
       "    }\n",
       "</style>\n",
       "<table border=\"1\" class=\"dataframe\">\n",
       "  <thead>\n",
       "    <tr style=\"text-align: right;\">\n",
       "      <th></th>\n",
       "      <th>count_blok</th>\n",
       "      <th>count_detail</th>\n",
       "      <th>work_time</th>\n",
       "      <th>amount</th>\n",
       "      <th>days_repair</th>\n",
       "    </tr>\n",
       "  </thead>\n",
       "  <tbody>\n",
       "    <tr>\n",
       "      <th>count_blok</th>\n",
       "      <td>1.000000</td>\n",
       "      <td>0.558075</td>\n",
       "      <td>0.019871</td>\n",
       "      <td>0.314423</td>\n",
       "      <td>0.025801</td>\n",
       "    </tr>\n",
       "    <tr>\n",
       "      <th>count_detail</th>\n",
       "      <td>0.558075</td>\n",
       "      <td>1.000000</td>\n",
       "      <td>0.012832</td>\n",
       "      <td>0.367942</td>\n",
       "      <td>0.018050</td>\n",
       "    </tr>\n",
       "    <tr>\n",
       "      <th>work_time</th>\n",
       "      <td>0.019871</td>\n",
       "      <td>0.012832</td>\n",
       "      <td>1.000000</td>\n",
       "      <td>0.072056</td>\n",
       "      <td>0.016024</td>\n",
       "    </tr>\n",
       "    <tr>\n",
       "      <th>amount</th>\n",
       "      <td>0.314423</td>\n",
       "      <td>0.367942</td>\n",
       "      <td>0.072056</td>\n",
       "      <td>1.000000</td>\n",
       "      <td>0.079301</td>\n",
       "    </tr>\n",
       "    <tr>\n",
       "      <th>days_repair</th>\n",
       "      <td>0.025801</td>\n",
       "      <td>0.018050</td>\n",
       "      <td>0.016024</td>\n",
       "      <td>0.079301</td>\n",
       "      <td>1.000000</td>\n",
       "    </tr>\n",
       "  </tbody>\n",
       "</table>\n",
       "</div>"
      ],
      "text/plain": [
       "              count_blok  count_detail  work_time    amount  days_repair\n",
       "count_blok      1.000000      0.558075   0.019871  0.314423     0.025801\n",
       "count_detail    0.558075      1.000000   0.012832  0.367942     0.018050\n",
       "work_time       0.019871      0.012832   1.000000  0.072056     0.016024\n",
       "amount          0.314423      0.367942   0.072056  1.000000     0.079301\n",
       "days_repair     0.025801      0.018050   0.016024  0.079301     1.000000"
      ]
     },
     "execution_count": 18,
     "metadata": {},
     "output_type": "execute_result"
    }
   ],
   "source": [
    "three_sigmas_condition.corr()"
   ]
  },
  {
   "cell_type": "markdown",
   "metadata": {},
   "source": [
    "На основе посчитанных значений кореляции можн сделать вывод, что стоимость ремонта имеет среднюю зависимость от колличества ремонтируемых деталей и узлов."
   ]
  },
  {
   "cell_type": "code",
   "execution_count": null,
   "metadata": {},
   "outputs": [],
   "source": []
  }
 ],
 "metadata": {
  "kernelspec": {
   "display_name": "Python 3",
   "language": "python",
   "name": "python3"
  },
  "language_info": {
   "codemirror_mode": {
    "name": "ipython",
    "version": 3
   },
   "file_extension": ".py",
   "mimetype": "text/x-python",
   "name": "python",
   "nbconvert_exporter": "python",
   "pygments_lexer": "ipython3",
   "version": "3.7.3"
  }
 },
 "nbformat": 4,
 "nbformat_minor": 2
}
