{
 "cells": [
  {
   "cell_type": "markdown",
   "metadata": {},
   "source": [
    "Задача 1\n",
    "\n",
    "О непрерывной равномерно распределённой случайной величине B известно, что её дисперсия равна 0.2. Можно ли найти правую границу величины B и её среднее значение зная, что левая граница равна 0.5? Если да, найдите их."
   ]
  },
  {
   "cell_type": "code",
   "execution_count": 12,
   "metadata": {},
   "outputs": [],
   "source": [
    "import math\n",
    "import numpy as np"
   ]
  },
  {
   "cell_type": "code",
   "execution_count": 4,
   "metadata": {},
   "outputs": [
    {
     "name": "stdout",
     "output_type": "stream",
     "text": [
      "2.049193338482967\n"
     ]
    }
   ],
   "source": [
    "#Правая граница\n",
    "a = 0.5\n",
    "dx = 0.2\n",
    "b = math.sqrt(dx * 12) + a\n",
    "print(b)"
   ]
  },
  {
   "cell_type": "code",
   "execution_count": 5,
   "metadata": {},
   "outputs": [
    {
     "name": "stdout",
     "output_type": "stream",
     "text": [
      "1.2745966692414834\n"
     ]
    }
   ],
   "source": [
    "#Среднее значение\n",
    "mx = (a + b) / 2\n",
    "print(mx)"
   ]
  },
  {
   "cell_type": "markdown",
   "metadata": {},
   "source": [
    "Задача 2\n",
    "\n",
    "На сколько сигм (средних квадратических отклонений) отклоняется рост человека, равный 190 см, от математического ожидания роста в популяции, в которой M(X) = 178 и D(X) = 25?"
   ]
  },
  {
   "cell_type": "code",
   "execution_count": null,
   "metadata": {},
   "outputs": [],
   "source": [
    "#Для определения границ роста нужно решить систему уравнений\n",
    "(a + b) / 2 = 178\n",
    "(b - a) ** 2 / 12 = 25"
   ]
  },
  {
   "cell_type": "code",
   "execution_count": 9,
   "metadata": {},
   "outputs": [
    {
     "name": "stdout",
     "output_type": "stream",
     "text": [
      "191.1602540378444\n"
     ]
    }
   ],
   "source": [
    "b = (math.sqrt(25*12) + 365)/2\n",
    "print(b)"
   ]
  },
  {
   "cell_type": "code",
   "execution_count": 10,
   "metadata": {},
   "outputs": [
    {
     "name": "stdout",
     "output_type": "stream",
     "text": [
      "164.8397459621556\n"
     ]
    }
   ],
   "source": [
    "a = (178 * 2) - b\n",
    "print(a)"
   ]
  },
  {
   "cell_type": "code",
   "execution_count": 11,
   "metadata": {},
   "outputs": [
    {
     "data": {
      "text/plain": [
       "0.48"
      ]
     },
     "execution_count": 11,
     "metadata": {},
     "output_type": "execute_result"
    }
   ],
   "source": [
    "# рост человека, равный 190 см отклоняется на:\n",
    "(190 - 178) / 25"
   ]
  },
  {
   "cell_type": "markdown",
   "metadata": {},
   "source": [
    "Задача 3\n",
    "\n",
    "Рост взрослого населения города X имеет нормальное распределение, причём, средний рост равен 174 см, а среднее квадратическое отклонение равно 8 см. С помощью правил стандартного отклонения, двух и трёх сигм посчитайте, какова вероятность того, что случайным образом выбранный взрослый человек имеет рост:\n",
    "\n",
    "больше 182 см?\n",
    "больше 190 см?\n",
    "от 166 см до 190 см?\n",
    "от 166 см до 182 см?\n",
    "от 158 см до 190 см?\n",
    "не выше 150 см или не ниже 190 см?\n",
    "не выше 150 см или не ниже 198 см?\n",
    "ниже 166 см?"
   ]
  },
  {
   "cell_type": "code",
   "execution_count": 13,
   "metadata": {},
   "outputs": [],
   "source": [
    "loc = 174\n",
    "scale = 8\n"
   ]
  },
  {
   "cell_type": "code",
   "execution_count": null,
   "metadata": {},
   "outputs": [],
   "source": []
  }
 ],
 "metadata": {
  "kernelspec": {
   "display_name": "Python 3",
   "language": "python",
   "name": "python3"
  },
  "language_info": {
   "codemirror_mode": {
    "name": "ipython",
    "version": 3
   },
   "file_extension": ".py",
   "mimetype": "text/x-python",
   "name": "python",
   "nbconvert_exporter": "python",
   "pygments_lexer": "ipython3",
   "version": "3.7.3"
  }
 },
 "nbformat": 4,
 "nbformat_minor": 2
}
