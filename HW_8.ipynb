{
 "cells": [
  {
   "cell_type": "code",
   "execution_count": 1,
   "metadata": {},
   "outputs": [],
   "source": [
    "import pandas as pd\n",
    "import numpy as np\n",
    "from matplotlib import pyplot as plt\n",
    "from scipy import stats"
   ]
  },
  {
   "cell_type": "markdown",
   "metadata": {},
   "source": [
    "Задача 1\n",
    "\n",
    "Объясняемая переменная y зависит от двух категориальных факторов A и B, причём фактор A имеет 3 уровня, а фактор B - 4 уровня. Результаты наблюдений приведены в таблице:\n",
    "\n",
    "y = [[2.68, 3.29, 2.88, 4.45],\n",
    "     [4.12, 4.96, 5.09, 5.22],\n",
    "     [5.52, 4.50, 5.42, 5.29]]\n",
    "     \n",
    "С помощью двухфакторного дисперсионного анализа проверьте влияние каждого из факторов на переменную y."
   ]
  },
  {
   "cell_type": "code",
   "execution_count": 2,
   "metadata": {},
   "outputs": [
    {
     "data": {
      "text/plain": [
       "array([[2.68, 3.29, 2.88, 4.45],\n",
       "       [4.12, 4.96, 5.09, 5.22],\n",
       "       [5.52, 4.5 , 5.42, 5.29]])"
      ]
     },
     "execution_count": 2,
     "metadata": {},
     "output_type": "execute_result"
    }
   ],
   "source": [
    "y = np.array([[2.68, 3.29, 2.88, 4.45], [4.12, 4.96, 5.09, 5.22], [5.52, 4.50, 5.42, 5.29]])\n",
    "y"
   ]
  },
  {
   "cell_type": "code",
   "execution_count": 3,
   "metadata": {},
   "outputs": [
    {
     "data": {
      "text/plain": [
       "[3.325, 4.8475, 5.1825]"
      ]
     },
     "execution_count": 3,
     "metadata": {},
     "output_type": "execute_result"
    }
   ],
   "source": [
    "#Проверяем нулевую гипотезу для фактора А\n",
    "y_a_mean = [y[i,:].mean() for i in range(3)]\n",
    "y_a_mean"
   ]
  },
  {
   "cell_type": "code",
   "execution_count": 4,
   "metadata": {},
   "outputs": [
    {
     "data": {
      "text/plain": [
       "[4.1066666666666665, 4.25, 4.463333333333334, 4.986666666666667]"
      ]
     },
     "execution_count": 4,
     "metadata": {},
     "output_type": "execute_result"
    }
   ],
   "source": [
    "#Проверяем нулевую гипотезу для фактора В\n",
    "y_b_mean = [y[:,i].mean() for i in range(4)]\n",
    "y_b_mean"
   ]
  },
  {
   "cell_type": "code",
   "execution_count": 5,
   "metadata": {},
   "outputs": [
    {
     "name": "stdout",
     "output_type": "stream",
     "text": [
      "4.451666666666666\n"
     ]
    }
   ],
   "source": [
    "#Среднее по всем Y\n",
    "y_mean = y.mean()\n",
    "print(y_mean)"
   ]
  },
  {
   "cell_type": "code",
   "execution_count": 6,
   "metadata": {},
   "outputs": [
    {
     "name": "stdout",
     "output_type": "stream",
     "text": [
      "5.880537499999999 1.7842222222222253\n"
     ]
    }
   ],
   "source": [
    "#Считаем суммы квадратов отклонений по каждому фактору\n",
    "S_A = 3 * ((y_a_mean - y_mean) ** 2).sum()\n",
    "S_B = 4 * ((y_b_mean - y_mean) ** 2).sum()\n",
    "print(S_A, S_B)"
   ]
  },
  {
   "cell_type": "code",
   "execution_count": 7,
   "metadata": {},
   "outputs": [
    {
     "name": "stdout",
     "output_type": "stream",
     "text": [
      "1.9298833333333327\n"
     ]
    }
   ],
   "source": [
    "#Считаем суммы квадратов отклонений общую\n",
    "S_res = 0\n",
    "for i in range(3):\n",
    "    for j in range(4):\n",
    "        S_res = S_res + (y[i, j] - y_a_mean[i] - y_b_mean[j] + y_mean) ** 2\n",
    "print(S_res)"
   ]
  },
  {
   "cell_type": "code",
   "execution_count": 8,
   "metadata": {},
   "outputs": [
    {
     "name": "stdout",
     "output_type": "stream",
     "text": [
      "17.29036064445312 1.0611496460905385 0.6207416133796292\n"
     ]
    }
   ],
   "source": [
    "#Дисперсия факторов и общая\n",
    "z_A = S_A**2 / 2\n",
    "z_B = S_B**2 / 3\n",
    "z_res = S_res**2 / 6\n",
    "print(z_A, z_B, z_res)"
   ]
  },
  {
   "cell_type": "code",
   "execution_count": 9,
   "metadata": {},
   "outputs": [
    {
     "name": "stdout",
     "output_type": "stream",
     "text": [
      "27.854360448489526 1.7094868834604253\n"
     ]
    }
   ],
   "source": [
    "#Значения статистики для факторов A и B\n",
    "T_A = z_A / z_res\n",
    "T_B = z_B / z_res\n",
    "print(T_A, T_B)"
   ]
  },
  {
   "cell_type": "code",
   "execution_count": 10,
   "metadata": {},
   "outputs": [
    {
     "name": "stdout",
     "output_type": "stream",
     "text": [
      "5.143252849784718 4.757062663089414\n"
     ]
    }
   ],
   "source": [
    "alpha = 0.05\n",
    "\n",
    "F_crit_A = stats.f.ppf(1 - alpha, 2, 6)\n",
    "F_crit_B = stats.f.ppf(1 - alpha, 3, 6)\n",
    "\n",
    "print(F_crit_A, F_crit_B)"
   ]
  },
  {
   "cell_type": "markdown",
   "metadata": {},
   "source": [
    " T_A > F_crit_A следовательно фактор A является статистически значимым для y\n",
    " T_B < F_crit_B следовательно фактор B является статистически не значимым для y"
   ]
  },
  {
   "cell_type": "markdown",
   "metadata": {},
   "source": [
    "Задача 2\n",
    "\n",
    "С помощью критерия Стьюдента для двух независимых выборок проверьте гипотезу о равенстве среднего роста футболистов и хоккеистов, основываясь на результатах измерений:\n",
    "\n",
    "football_players = [173, 175, 180, 178, 177, 185, 183, 182]\n",
    "hockey_players = [177, 179, 180, 188, 177, 172, 171, 184, 180]"
   ]
  },
  {
   "cell_type": "code",
   "execution_count": 2,
   "metadata": {},
   "outputs": [],
   "source": [
    "football_players = np.array([173, 175, 180, 178, 177, 185, 183, 182])\n",
    "hockey_players = np.array([177, 179, 180, 188, 177, 172, 171, 184, 180])"
   ]
  },
  {
   "cell_type": "code",
   "execution_count": 3,
   "metadata": {},
   "outputs": [
    {
     "name": "stdout",
     "output_type": "stream",
     "text": [
      "179.125 178.66666666666666\n"
     ]
    }
   ],
   "source": [
    "football_players_mean = football_players.mean()\n",
    "hockey_players_mean = hockey_players.mean()\n",
    "print(football_players_mean, hockey_players_mean)"
   ]
  },
  {
   "cell_type": "code",
   "execution_count": 4,
   "metadata": {},
   "outputs": [
    {
     "name": "stdout",
     "output_type": "stream",
     "text": [
      "3.8547859862773186 5.033222956847166\n"
     ]
    }
   ],
   "source": [
    "d1 = football_players.std()\n",
    "d2 = hockey_players.std()\n",
    "print(d1, d2)"
   ]
  },
  {
   "cell_type": "code",
   "execution_count": 5,
   "metadata": {},
   "outputs": [
    {
     "name": "stdout",
     "output_type": "stream",
     "text": [
      "0.2120406006079591\n"
     ]
    }
   ],
   "source": [
    "T = (football_players_mean - hockey_players_mean) / np.sqrt(d1**2 / len(football_players) + d2**2 / len(hockey_players))\n",
    "print(T)"
   ]
  },
  {
   "cell_type": "code",
   "execution_count": 15,
   "metadata": {},
   "outputs": [
    {
     "name": "stdout",
     "output_type": "stream",
     "text": [
      "2.131449545559323\n"
     ]
    }
   ],
   "source": [
    "alpha = 0.05\n",
    "\n",
    "F_crit = stats.t.ppf(1 - alpha / 2, df=(football_players.shape[0] + hockey_players.shape[0] - 2))\n",
    "print(F_crit)"
   ]
  },
  {
   "cell_type": "markdown",
   "metadata": {},
   "source": [
    "T < F_crit следовательно гипотеза о равенстве среднего роста футболистов и хоккеистов верна."
   ]
  }
 ],
 "metadata": {
  "kernelspec": {
   "display_name": "Python 3",
   "language": "python",
   "name": "python3"
  },
  "language_info": {
   "codemirror_mode": {
    "name": "ipython",
    "version": 3
   },
   "file_extension": ".py",
   "mimetype": "text/x-python",
   "name": "python",
   "nbconvert_exporter": "python",
   "pygments_lexer": "ipython3",
   "version": "3.7.3"
  }
 },
 "nbformat": 4,
 "nbformat_minor": 2
}
